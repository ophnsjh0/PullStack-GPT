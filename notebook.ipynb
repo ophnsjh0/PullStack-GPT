{
 "cells": [
  {
   "cell_type": "code",
   "execution_count": 1,
   "metadata": {},
   "outputs": [
    {
     "data": {
      "text/plain": [
       "{'history': [HumanMessage(content='안녕하세요 저는 배트맨입니다. 저는 고담시에 살아요'),\n",
       "  AIMessage(content='와우 거기 TV에서 봤던 곳인데.')]}"
      ]
     },
     "execution_count": 1,
     "metadata": {},
     "output_type": "execute_result"
    }
   ],
   "source": [
    "from langchain.chat_models import ChatOpenAI\n",
    "from langchain.memory import ConversationSummaryBufferMemory\n",
    "\n",
    "llm = ChatOpenAI(temperature=0.1)\n",
    "\n",
    "memory = ConversationSummaryBufferMemory(\n",
    "    llm=llm,\n",
    "    max_token_limit=150,\n",
    "    return_messages=True,\n",
    ")\n",
    "\n",
    "def add_message(input, output):\n",
    "    memory.save_context({\"input\": input}, {\"output\": output})\n",
    "    \n",
    "def get_history():\n",
    "    return memory.load_memory_variables({})\n",
    "\n",
    "add_message(\"안녕하세요 저는 배트맨입니다. 저는 고담시에 살아요\", \"와우 거기 TV에서 봤던 곳인데.\")\n",
    "\n",
    "get_history()"
   ]
  },
  {
   "cell_type": "code",
   "execution_count": 2,
   "metadata": {},
   "outputs": [
    {
     "data": {
      "text/plain": [
       "{'history': [HumanMessage(content='안녕하세요 저는 배트맨입니다. 저는 고담시에 살아요'),\n",
       "  AIMessage(content='와우 거기 TV에서 봤던 곳인데.'),\n",
       "  HumanMessage(content='고담시는 매우 어두운 분위기에요'),\n",
       "  AIMessage(content='조커라는 악당도 있는 곳이죠.')]}"
      ]
     },
     "execution_count": 2,
     "metadata": {},
     "output_type": "execute_result"
    }
   ],
   "source": [
    "add_message(\"고담시는 매우 어두운 분위기에요\", \"조커라는 악당도 있는 곳이죠.\")\n",
    "\n",
    "get_history()"
   ]
  },
  {
   "cell_type": "code",
   "execution_count": 3,
   "metadata": {},
   "outputs": [
    {
     "data": {
      "text/plain": [
       "{'history': [SystemMessage(content='The human greets the AI in Korean and introduces themselves as Batman, stating that they live in Gotham City.'),\n",
       "  AIMessage(content='와우 거기 TV에서 봤던 곳인데.'),\n",
       "  HumanMessage(content='고담시는 매우 어두운 분위기에요'),\n",
       "  AIMessage(content='조커라는 악당도 있는 곳이죠.'),\n",
       "  HumanMessage(content='조커는 제가 체포해서 지금 감옥에 있습니다.'),\n",
       "  AIMessage(content='와우 너무 잘하셨네요.')]}"
      ]
     },
     "execution_count": 3,
     "metadata": {},
     "output_type": "execute_result"
    }
   ],
   "source": [
    "add_message(\"조커는 제가 체포해서 지금 감옥에 있습니다.\", \"와우 너무 잘하셨네요.\")\n",
    "\n",
    "get_history()"
   ]
  }
 ],
 "metadata": {
  "kernelspec": {
   "display_name": "env",
   "language": "python",
   "name": "python3"
  },
  "language_info": {
   "codemirror_mode": {
    "name": "ipython",
    "version": 3
   },
   "file_extension": ".py",
   "mimetype": "text/x-python",
   "name": "python",
   "nbconvert_exporter": "python",
   "pygments_lexer": "ipython3",
   "version": "3.10.12"
  }
 },
 "nbformat": 4,
 "nbformat_minor": 2
}
