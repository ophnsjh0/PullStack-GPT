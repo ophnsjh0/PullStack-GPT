{
 "cells": [
  {
   "cell_type": "code",
   "execution_count": 7,
   "metadata": {},
   "outputs": [
    {
     "data": {
      "text/plain": [
       "{'history': [SystemMessage(content='On Shinjunghun: Shinjunghun is Hi i,m Shinjunghun. Shinjunghun lives in South Korea.')]}"
      ]
     },
     "execution_count": 7,
     "metadata": {},
     "output_type": "execute_result"
    }
   ],
   "source": [
    "# from langchain.prompts.few_shot import FewShotPromptTemplate, FewShotChatMessagePromptTemplate\n",
    "# from langchain.callbacks import StreamingStdOutCallbackHandler, get_openai_callback\n",
    "# from langchain.prompts import example_selector\n",
    "# from langchain.prompts.example_selector.base import BaseExampleSelector\n",
    "# from langchain.prompts import PromptTemplate, ChatPromptTemplate, load_prompt\n",
    "# from langchain.prompts.pipeline import PipelinePromptTemplate\n",
    "# from langchain.globals import set_llm_cache, set_debug\n",
    "# from langchain.cache import InMemoryCache, SQLiteCache\n",
    "from langchain.chat_models import ChatOpenAI\n",
    "# from langchain.llms.openai import OpenAI\n",
    "from langchain.memory import ConversationBufferMemory, ConversationBufferWindowMemory, ConversationSummaryMemory, ConversationSummaryBufferMemory, ConversationKGMemory\n",
    "\n",
    "llm = ChatOpenAI(temperature=0.1)\n",
    "\n",
    "memory = ConversationKGMemory(\n",
    "    llm=llm,\n",
    "    return_messages=True,\n",
    ")\n",
    "\n",
    "def add_message(input, output):\n",
    "    memory.save_context({\"input\": input}, {\"output\": output})\n",
    "    \n",
    "def get_history(a):\n",
    "    return memory.load_memory_variables({\"input\":a})\n",
    "\n",
    "add_message(\"Hi i,m junghun, I live in South Korea\",\"Wow that is so cool!!.\" )\n",
    "\n",
    "get_history(\"who is junghun\")"
   ]
  },
  {
   "cell_type": "code",
   "execution_count": 9,
   "metadata": {},
   "outputs": [
    {
     "data": {
      "text/plain": [
       "{'history': [SystemMessage(content='On junghun: junghun likes kimchi.')]}"
      ]
     },
     "execution_count": 9,
     "metadata": {},
     "output_type": "execute_result"
    }
   ],
   "source": [
    "add_message(\"junghun likes kimchi\", \"Wow that is so cool!!.\")\n",
    "\n",
    "get_history(\"what does junghun like\")"
   ]
  }
 ],
 "metadata": {
  "kernelspec": {
   "display_name": "env",
   "language": "python",
   "name": "python3"
  },
  "language_info": {
   "codemirror_mode": {
    "name": "ipython",
    "version": 3
   },
   "file_extension": ".py",
   "mimetype": "text/x-python",
   "name": "python",
   "nbconvert_exporter": "python",
   "pygments_lexer": "ipython3",
   "version": "3.10.12"
  }
 },
 "nbformat": 4,
 "nbformat_minor": 2
}
